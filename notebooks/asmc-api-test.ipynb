{
 "cells": [
  {
   "cell_type": "markdown",
   "metadata": {},
   "source": [
    "# Basis for iterating ASMC API\n",
    "\n",
    "This notebook demonstrates the current state of the new ASMC API under development."
   ]
  },
  {
   "cell_type": "code",
   "execution_count": 1,
   "metadata": {},
   "outputs": [],
   "source": [
    "import pathlib\n",
    "import numpy as np\n",
    "\n",
    "# Import all from ASMC\n",
    "from asmc import *\n",
    "\n",
    "# ASMC submodule for preparing decoding quantities\n",
    "from asmc.preparedecoding import *"
   ]
  },
  {
   "cell_type": "code",
   "execution_count": 2,
   "metadata": {},
   "outputs": [],
   "source": [
    "# First, prepare required decoding quantities\n",
    "## this could be streamlined to NOT require CEU.demo etc (work underway)\n",
    "## it could also (possibly?) be rolled into the ASMC object construction?\n",
    "\n",
    "files_dir = (pathlib.Path('..') / 'FILES').resolve()\n",
    "\n",
    "demo_file = str(files_dir / 'CEU.demo')\n",
    "disc_file = str(files_dir / 'DISC' / '30-100-2000.disc')\n",
    "freq_file = str(files_dir / 'UKBB.frq')\n",
    "\n",
    "dq = calculate_csfs_and_prepare_decoding(\n",
    "    demographic_file=Demography(demo_file),\n",
    "    discretization_file=disc_file,\n",
    "    freq_file=freq_file,\n",
    "    samples=50,\n",
    ")\n",
    "\n",
    "dq.saveDecodingQuantities(str(files_dir / 'dq'))"
   ]
  },
  {
   "cell_type": "code",
   "execution_count": null,
   "metadata": {},
   "outputs": [],
   "source": [
    "input_files_root = str(files_dir / 'FASTSMC_EXAMPLE' / 'example')\n",
    "decoding_quantities_file = str(files_dir / 'dq.decodingQuantities.gz')\n",
    "\n",
    "# A minimal ASMC object construction\n",
    "asmc = ASMC(input_files_root, decoding_quantities_file)\n",
    "\n",
    "# Decode pairs by their ID\n",
    "return_vals = asmc.decodePairs([1,2,3], [4,5,6])"
   ]
  },
  {
   "cell_type": "code",
   "execution_count": null,
   "metadata": {},
   "outputs": [],
   "source": [
    "# By default all params such as _doPosteriorSums are False. We should definitely discuss sensible default params\n",
    "## Pier: you were planning to do a wider audit of ASMC/FastSMC flags\n",
    "return_vals.sumOverPairs"
   ]
  }
 ],
 "metadata": {
  "kernelspec": {
   "display_name": "Python 3",
   "language": "python",
   "name": "python3"
  },
  "language_info": {
   "codemirror_mode": {
    "name": "ipython",
    "version": 3
   },
   "file_extension": ".py",
   "mimetype": "text/x-python",
   "name": "python",
   "nbconvert_exporter": "python",
   "pygments_lexer": "ipython3",
   "version": "3.8.5"
  }
 },
 "nbformat": 4,
 "nbformat_minor": 4
}
