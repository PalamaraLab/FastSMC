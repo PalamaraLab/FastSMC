{
 "cells": [
  {
   "cell_type": "markdown",
   "metadata": {},
   "source": [
    "# FastSMC example notebook\n",
    "\n",
    "This notebook demonstrates how to use the FastSMC python bindings.\n",
    "\n",
    "Please make sure you have installed the python bindings by following the instructions in `../README.md` before attempting to run this notebook."
   ]
  },
  {
   "cell_type": "markdown",
   "metadata": {},
   "source": [
    "1. import the necessary modules, including from `asmc` which is installed with the Python bindings"
   ]
  },
  {
   "cell_type": "code",
   "execution_count": 1,
   "metadata": {},
   "outputs": [],
   "source": [
    "import os\n",
    "import numpy as np\n",
    "import pandas as pd\n",
    "\n",
    "from asmc import (\n",
    "    HMM,\n",
    "    DecodingQuantities,\n",
    "    DecodingParams,\n",
    "    Data,\n",
    "    DecodingMode,\n",
    "    FastSMC,\n",
    ")"
   ]
  },
  {
   "cell_type": "markdown",
   "metadata": {},
   "source": [
    "2. Find the example data provided with ASMC that we will use for this notebook"
   ]
  },
  {
   "cell_type": "code",
   "execution_count": 2,
   "metadata": {},
   "outputs": [],
   "source": [
    "# Get the ASMC directory and check we're in the expected place\n",
    "base_dir = os.path.abspath('..')\n",
    "assert 'FILES' in os.listdir(base_dir)\n",
    "assert 'README.md' in os.listdir(base_dir)\n",
    "\n",
    "file_dir = os.path.join(base_dir, 'FILES', 'FASTSMC_EXAMPLE')\n",
    "name_prefix = 'out.25.n300.chr2.len30.dens1.disc10-20-2000.demoCEU.mapnorm.array'\n",
    "decoding_quantities_file = os.path.join(file_dir, f'{name_prefix}.decodingQuantities.gz')\n",
    "assert os.path.isfile(decoding_quantities_file)\n",
    "\n",
    "# Ouput files will be generated alongside this notebook in a directory named 'tmp_output'\n",
    "output_dir = os.path.join(base_dir, 'notebooks', 'tmp_output')\n",
    "os.makedirs(output_dir, exist_ok=True)\n",
    "assert(os.path.isdir(output_dir))"
   ]
  },
  {
   "cell_type": "markdown",
   "metadata": {},
   "source": [
    "3. Set the required parameters"
   ]
  },
  {
   "cell_type": "code",
   "execution_count": 3,
   "metadata": {},
   "outputs": [],
   "source": [
    "params = DecodingParams()\n",
    "params.decodingQuantFile = decoding_quantities_file\n",
    "params.inFileRoot = os.path.join(file_dir, name_prefix)\n",
    "params.outFileRoot = os.path.join(output_dir, 'fastsmc_output')\n",
    "params.decodingModeString = 'array'\n",
    "params.decodingMode = DecodingMode.arrayFolded\n",
    "params.foldData = True\n",
    "params.usingCSFS = True\n",
    "params.batchSize = 32\n",
    "params.recallThreshold = 3\n",
    "params.min_m = 1.5\n",
    "params.GERMLINE = True\n",
    "params.FastSMC = True\n",
    "params.BIN_OUT = False\n",
    "params.time = 50\n",
    "params.noConditionalAgeEstimates = True\n",
    "params.doPerPairMAP = True\n",
    "params.doPerPairPosteriorMean = True\n",
    "params.jobs = 4"
   ]
  },
  {
   "cell_type": "markdown",
   "metadata": {},
   "source": [
    "4. Create the Python ASMC objects and run all four jobs.  This will probably take around 5-10 minutes on a laptop."
   ]
  },
  {
   "cell_type": "code",
   "execution_count": 4,
   "metadata": {},
   "outputs": [],
   "source": [
    "decoding_quantities = DecodingQuantities(params.decodingQuantFile)\n",
    "sequence_length = Data.countHapLines(params.inFileRoot)\n",
    "\n",
    "use_known_seed = False\n",
    "use_batches = not params.noBatches\n",
    "scaling_skip = 1\n",
    "\n",
    "for job_ind in range(params.jobs):\n",
    "    params.jobInd = 1 + job_ind   # params.jobInd is from 1...N\n",
    "    data = Data(params.inFileRoot, sequence_length, decoding_quantities.CSFSSamples,\n",
    "                params.foldData, params.usingCSFS, params.jobInd, params.jobs, use_known_seed)\n",
    "\n",
    "    hmm = HMM(data, decoding_quantities, params, use_batches, 1)\n",
    "\n",
    "    fast_smc = FastSMC()\n",
    "    fast_smc.run(params, data, hmm)"
   ]
  },
  {
   "cell_type": "markdown",
   "metadata": {},
   "source": [
    "5. Concatenate data"
   ]
  },
  {
   "cell_type": "code",
   "execution_count": 5,
   "metadata": {},
   "outputs": [
    {
     "data": {
      "text/html": [
       "<div>\n",
       "<style scoped>\n",
       "    .dataframe tbody tr th:only-of-type {\n",
       "        vertical-align: middle;\n",
       "    }\n",
       "\n",
       "    .dataframe tbody tr th {\n",
       "        vertical-align: top;\n",
       "    }\n",
       "\n",
       "    .dataframe thead th {\n",
       "        text-align: right;\n",
       "    }\n",
       "</style>\n",
       "<table border=\"1\" class=\"dataframe\">\n",
       "  <thead>\n",
       "    <tr style=\"text-align: right;\">\n",
       "      <th></th>\n",
       "      <th>ind1_famid</th>\n",
       "      <th>ind1_id</th>\n",
       "      <th>ind1_hap</th>\n",
       "      <th>ind2_famid</th>\n",
       "      <th>ind2_id</th>\n",
       "      <th>ind2_hap</th>\n",
       "      <th>chromosome</th>\n",
       "      <th>ibd_start</th>\n",
       "      <th>ibd_end</th>\n",
       "      <th>ibd_length</th>\n",
       "      <th>ibd_score</th>\n",
       "      <th>map_est</th>\n",
       "      <th>post_est</th>\n",
       "    </tr>\n",
       "  </thead>\n",
       "  <tbody>\n",
       "    <tr>\n",
       "      <th>0</th>\n",
       "      <td>1_5</td>\n",
       "      <td>1_5</td>\n",
       "      <td>1</td>\n",
       "      <td>1_10</td>\n",
       "      <td>1_10</td>\n",
       "      <td>1</td>\n",
       "      <td>1</td>\n",
       "      <td>1575555</td>\n",
       "      <td>1608858</td>\n",
       "      <td>33303</td>\n",
       "      <td>0.002602</td>\n",
       "      <td>9079.879883</td>\n",
       "      <td>74.999878</td>\n",
       "    </tr>\n",
       "    <tr>\n",
       "      <th>1</th>\n",
       "      <td>1_5</td>\n",
       "      <td>1_5</td>\n",
       "      <td>1</td>\n",
       "      <td>1_10</td>\n",
       "      <td>1_10</td>\n",
       "      <td>1</td>\n",
       "      <td>1</td>\n",
       "      <td>1613357</td>\n",
       "      <td>2274988</td>\n",
       "      <td>661631</td>\n",
       "      <td>0.017505</td>\n",
       "      <td>1761.868164</td>\n",
       "      <td>94.999847</td>\n",
       "    </tr>\n",
       "    <tr>\n",
       "      <th>2</th>\n",
       "      <td>1_5</td>\n",
       "      <td>1_5</td>\n",
       "      <td>1</td>\n",
       "      <td>1_10</td>\n",
       "      <td>1_10</td>\n",
       "      <td>1</td>\n",
       "      <td>1</td>\n",
       "      <td>2288676</td>\n",
       "      <td>2312048</td>\n",
       "      <td>23372</td>\n",
       "      <td>0.002258</td>\n",
       "      <td>7347.246094</td>\n",
       "      <td>74.999878</td>\n",
       "    </tr>\n",
       "    <tr>\n",
       "      <th>3</th>\n",
       "      <td>1_9</td>\n",
       "      <td>1_9</td>\n",
       "      <td>2</td>\n",
       "      <td>1_55</td>\n",
       "      <td>1_55</td>\n",
       "      <td>1</td>\n",
       "      <td>1</td>\n",
       "      <td>936839</td>\n",
       "      <td>940357</td>\n",
       "      <td>3518</td>\n",
       "      <td>0.020423</td>\n",
       "      <td>19130.046875</td>\n",
       "      <td>54.999901</td>\n",
       "    </tr>\n",
       "    <tr>\n",
       "      <th>4</th>\n",
       "      <td>1_9</td>\n",
       "      <td>1_9</td>\n",
       "      <td>2</td>\n",
       "      <td>1_55</td>\n",
       "      <td>1_55</td>\n",
       "      <td>1</td>\n",
       "      <td>1</td>\n",
       "      <td>949094</td>\n",
       "      <td>2274988</td>\n",
       "      <td>1325894</td>\n",
       "      <td>0.160964</td>\n",
       "      <td>462.804382</td>\n",
       "      <td>54.999901</td>\n",
       "    </tr>\n",
       "    <tr>\n",
       "      <th>...</th>\n",
       "      <td>...</td>\n",
       "      <td>...</td>\n",
       "      <td>...</td>\n",
       "      <td>...</td>\n",
       "      <td>...</td>\n",
       "      <td>...</td>\n",
       "      <td>...</td>\n",
       "      <td>...</td>\n",
       "      <td>...</td>\n",
       "      <td>...</td>\n",
       "      <td>...</td>\n",
       "      <td>...</td>\n",
       "      <td>...</td>\n",
       "    </tr>\n",
       "    <tr>\n",
       "      <th>482</th>\n",
       "      <td>1_114</td>\n",
       "      <td>1_114</td>\n",
       "      <td>1</td>\n",
       "      <td>1_116</td>\n",
       "      <td>1_116</td>\n",
       "      <td>1</td>\n",
       "      <td>1</td>\n",
       "      <td>29360442</td>\n",
       "      <td>29381648</td>\n",
       "      <td>21206</td>\n",
       "      <td>0.143284</td>\n",
       "      <td>9532.596680</td>\n",
       "      <td>14.999936</td>\n",
       "    </tr>\n",
       "    <tr>\n",
       "      <th>483</th>\n",
       "      <td>1_114</td>\n",
       "      <td>1_114</td>\n",
       "      <td>1</td>\n",
       "      <td>1_116</td>\n",
       "      <td>1_116</td>\n",
       "      <td>1</td>\n",
       "      <td>1</td>\n",
       "      <td>29720657</td>\n",
       "      <td>29849472</td>\n",
       "      <td>128815</td>\n",
       "      <td>0.000594</td>\n",
       "      <td>1793.918579</td>\n",
       "      <td>254.999725</td>\n",
       "    </tr>\n",
       "    <tr>\n",
       "      <th>484</th>\n",
       "      <td>1_118</td>\n",
       "      <td>1_118</td>\n",
       "      <td>1</td>\n",
       "      <td>1_148</td>\n",
       "      <td>1_148</td>\n",
       "      <td>1</td>\n",
       "      <td>1</td>\n",
       "      <td>28719020</td>\n",
       "      <td>28722890</td>\n",
       "      <td>3870</td>\n",
       "      <td>0.001855</td>\n",
       "      <td>11115.988281</td>\n",
       "      <td>24.999928</td>\n",
       "    </tr>\n",
       "    <tr>\n",
       "      <th>485</th>\n",
       "      <td>1_118</td>\n",
       "      <td>1_118</td>\n",
       "      <td>1</td>\n",
       "      <td>1_148</td>\n",
       "      <td>1_148</td>\n",
       "      <td>1</td>\n",
       "      <td>1</td>\n",
       "      <td>28747400</td>\n",
       "      <td>29849472</td>\n",
       "      <td>1102072</td>\n",
       "      <td>0.312458</td>\n",
       "      <td>172.659943</td>\n",
       "      <td>34.999920</td>\n",
       "    </tr>\n",
       "    <tr>\n",
       "      <th>486</th>\n",
       "      <td>1_131</td>\n",
       "      <td>1_131</td>\n",
       "      <td>1</td>\n",
       "      <td>1_135</td>\n",
       "      <td>1_135</td>\n",
       "      <td>2</td>\n",
       "      <td>1</td>\n",
       "      <td>21555924</td>\n",
       "      <td>29849472</td>\n",
       "      <td>8293548</td>\n",
       "      <td>0.990280</td>\n",
       "      <td>21.106651</td>\n",
       "      <td>4.999943</td>\n",
       "    </tr>\n",
       "  </tbody>\n",
       "</table>\n",
       "<p>1682 rows × 13 columns</p>\n",
       "</div>"
      ],
      "text/plain": [
       "    ind1_famid ind1_id  ind1_hap ind2_famid ind2_id  ind2_hap  chromosome  \\\n",
       "0          1_5     1_5         1       1_10    1_10         1           1   \n",
       "1          1_5     1_5         1       1_10    1_10         1           1   \n",
       "2          1_5     1_5         1       1_10    1_10         1           1   \n",
       "3          1_9     1_9         2       1_55    1_55         1           1   \n",
       "4          1_9     1_9         2       1_55    1_55         1           1   \n",
       "..         ...     ...       ...        ...     ...       ...         ...   \n",
       "482      1_114   1_114         1      1_116   1_116         1           1   \n",
       "483      1_114   1_114         1      1_116   1_116         1           1   \n",
       "484      1_118   1_118         1      1_148   1_148         1           1   \n",
       "485      1_118   1_118         1      1_148   1_148         1           1   \n",
       "486      1_131   1_131         1      1_135   1_135         2           1   \n",
       "\n",
       "     ibd_start   ibd_end  ibd_length  ibd_score       map_est    post_est  \n",
       "0      1575555   1608858       33303   0.002602   9079.879883   74.999878  \n",
       "1      1613357   2274988      661631   0.017505   1761.868164   94.999847  \n",
       "2      2288676   2312048       23372   0.002258   7347.246094   74.999878  \n",
       "3       936839    940357        3518   0.020423  19130.046875   54.999901  \n",
       "4       949094   2274988     1325894   0.160964    462.804382   54.999901  \n",
       "..         ...       ...         ...        ...           ...         ...  \n",
       "482   29360442  29381648       21206   0.143284   9532.596680   14.999936  \n",
       "483   29720657  29849472      128815   0.000594   1793.918579  254.999725  \n",
       "484   28719020  28722890        3870   0.001855  11115.988281   24.999928  \n",
       "485   28747400  29849472     1102072   0.312458    172.659943   34.999920  \n",
       "486   21555924  29849472     8293548   0.990280     21.106651    4.999943  \n",
       "\n",
       "[1682 rows x 13 columns]"
      ]
     },
     "execution_count": 5,
     "metadata": {},
     "output_type": "execute_result"
    }
   ],
   "source": [
    "for job_ind in range(params.jobs):\n",
    "    assert os.path.isfile(f'{params.outFileRoot}.{1 + job_ind}.{params.jobs}.FastSMC.ibd.gz')\n",
    "\n",
    "frames = [pd.read_csv(f'{params.outFileRoot}.{x}.{params.jobs}.FastSMC.ibd.gz', sep='\\t', header=None)\n",
    "          for x in range(1, params.jobs + 1)]\n",
    "\n",
    "all_data = pd.concat(frames)\n",
    "\n",
    "col_names = ['ind1_famid', 'ind1_id', 'ind1_hap', 'ind2_famid', 'ind2_id', 'ind2_hap',\n",
    "             'chromosome', 'ibd_start', 'ibd_end', 'ibd_score', 'map_est', 'post_est']\n",
    "\n",
    "all_data.columns = col_names\n",
    "\n",
    "all_data.insert(9, 'ibd_length', all_data['ibd_end'] - all_data['ibd_start'])\n",
    "all_data"
   ]
  },
  {
   "cell_type": "markdown",
   "metadata": {
    "pycharm": {
     "name": "#%% md\n"
    }
   },
   "source": [
    "6. Visualise data: here we simply bin the posterior age estimates of the IBD segments"
   ]
  },
  {
   "cell_type": "code",
   "execution_count": 6,
   "metadata": {
    "pycharm": {
     "name": "#%%\n"
    }
   },
   "outputs": [
    {
     "data": {
      "text/plain": [
       "<AxesSubplot:>"
      ]
     },
     "execution_count": 6,
     "metadata": {},
     "output_type": "execute_result"
    },
    {
     "data": {
      "image/png": "[encoded data removed]",
      "text/plain": [
       "<Figure size 432x288 with 1 Axes>"
      ]
     },
     "metadata": {
      "needs_background": "light"
     },
     "output_type": "display_data"
    }
   ],
   "source": [
    "all_data['post_est'].hist(range=[0, 100])"
   ]
  },
  {
   "cell_type": "code",
   "execution_count": 7,
   "metadata": {
    "pycharm": {
     "name": "#%%\n"
    }
   },
   "outputs": [
    {
     "data": {
      "text/plain": [
       "<AxesSubplot:>"
      ]
     },
     "execution_count": 7,
     "metadata": {},
     "output_type": "execute_result"
    },
    {
     "data": {
      "image/png": "[encoded data removed]",
      "text/plain": [
       "<Figure size 432x288 with 1 Axes>"
      ]
     },
     "metadata": {
      "needs_background": "light"
     },
     "output_type": "display_data"
    }
   ],
   "source": [
    "all_data['ibd_length'].hist(range=[1, 200000])"
   ]
  }
 ],
 "metadata": {
  "kernelspec": {
   "display_name": "Python 3",
   "language": "python",
   "name": "python3"
  },
  "language_info": {
   "codemirror_mode": {
    "name": "ipython",
    "version": 3
   },
   "file_extension": ".py",
   "mimetype": "text/x-python",
   "name": "python",
   "nbconvert_exporter": "python",
   "pygments_lexer": "ipython3",
   "version": "3.8.2"
  }
 },
 "nbformat": 4,
 "nbformat_minor": 4
}
