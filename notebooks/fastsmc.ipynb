{
 "cells": [
  {
   "cell_type": "markdown",
   "metadata": {},
   "source": [
    "# FastSMC example notebook\n",
    "\n",
    "This notebook demonstrates how to use the FastSMC python bindings.\n",
    "\n",
    "Please make sure you have installed the python bindings by following the instructions in `../README.md` before attempting to run this notebook.\n",
    "\n",
    "The example dataset was simulated using the setup described in the paper, corresponding to SNP data for 150 diploid individuals and a chromosomal region of 30 Mb, with recombination rate from chromosome 2 and under a European demographic model (see https://www.biorxiv.org/content/10.1101/2020.04.20.029819v1 for more details)."
   ]
  },
  {
   "cell_type": "markdown",
   "metadata": {},
   "source": [
    "1. import the necessary modules, including from `asmc` which is installed with the Python bindings"
   ]
  },
  {
   "cell_type": "code",
   "execution_count": 1,
   "metadata": {},
   "outputs": [],
   "source": [
    "%config InlineBackend.figure_formats = ['svg']\n",
    "\n",
    "import os\n",
    "import numpy as np\n",
    "import pandas as pd\n",
    "import matplotlib.pyplot as plt\n",
    "\n",
    "from asmc import (\n",
    "    HMM,\n",
    "    DecodingQuantities,\n",
    "    DecodingParams,\n",
    "    Data,\n",
    "    DecodingMode,\n",
    "    FastSMC,\n",
    ")"
   ]
  },
  {
   "cell_type": "markdown",
   "metadata": {},
   "source": [
    "2. Find the example data provided with ASMC that we will use for this notebook"
   ]
  },
  {
   "cell_type": "code",
   "execution_count": 2,
   "metadata": {},
   "outputs": [],
   "source": [
    "# Get the ASMC directory and check we're in the expected place\n",
    "base_dir = os.path.abspath('..')\n",
    "assert 'FILES' in os.listdir(base_dir)\n",
    "assert 'README.md' in os.listdir(base_dir)\n",
    "\n",
    "file_dir = os.path.join(base_dir, 'FILES', 'FASTSMC_EXAMPLE')\n",
    "name_prefix = 'out.25.n300.chr2.len30.dens1.disc10-20-2000.demoCEU.mapnorm.array'\n",
    "decoding_quantities_file = os.path.join(file_dir, f'{name_prefix}.decodingQuantities.gz')\n",
    "assert os.path.isfile(decoding_quantities_file)\n",
    "\n",
    "# Ouput files will be generated alongside this notebook in a directory named 'tmp_output'\n",
    "output_dir = os.path.join(base_dir, 'notebooks', 'tmp_output')\n",
    "os.makedirs(output_dir, exist_ok=True)\n",
    "assert(os.path.isdir(output_dir))"
   ]
  },
  {
   "cell_type": "markdown",
   "metadata": {},
   "source": [
    "3. Set the required parameters"
   ]
  },
  {
   "cell_type": "code",
   "execution_count": 3,
   "metadata": {},
   "outputs": [],
   "source": [
    "params = DecodingParams()\n",
    "params.decodingQuantFile = decoding_quantities_file\n",
    "params.inFileRoot = os.path.join(file_dir, name_prefix)\n",
    "params.outFileRoot = os.path.join(output_dir, 'fastsmc_output')\n",
    "params.decodingModeString = 'array'\n",
    "params.decodingMode = DecodingMode.arrayFolded\n",
    "params.foldData = True\n",
    "params.usingCSFS = True\n",
    "params.batchSize = 32\n",
    "params.recallThreshold = 3\n",
    "params.min_m = 1.5\n",
    "params.GERMLINE = True\n",
    "params.FastSMC = True\n",
    "params.BIN_OUT = False\n",
    "params.time = 50\n",
    "params.noConditionalAgeEstimates = True\n",
    "params.doPerPairMAP = True\n",
    "params.doPerPairPosteriorMean = True\n",
    "params.jobs = 4"
   ]
  },
  {
   "cell_type": "markdown",
   "metadata": {},
   "source": [
    "4. Create the Python ASMC objects and run all four jobs.  This will probably take around 5-10 minutes on a laptop."
   ]
  },
  {
   "cell_type": "code",
   "execution_count": null,
   "metadata": {},
   "outputs": [],
   "source": [
    "decoding_quantities = DecodingQuantities(params.decodingQuantFile)\n",
    "\n",
    "for job_ind in range(params.jobs):\n",
    "    params.jobInd = 1 + job_ind   # params.jobInd is from 1...N\n",
    "    data = Data(params, decoding_quantities, useKnownSeed=False)\n",
    "\n",
    "    hmm = HMM(data, decoding_quantities, params, scalingSkip=1)\n",
    "\n",
    "    fast_smc = FastSMC()\n",
    "    fast_smc.run(params, data, hmm)"
   ]
  },
  {
   "cell_type": "markdown",
   "metadata": {},
   "source": [
    "5. Concatenate data"
   ]
  },
  {
   "cell_type": "code",
   "execution_count": null,
   "metadata": {},
   "outputs": [],
   "source": [
    "for job_ind in range(params.jobs):\n",
    "    assert os.path.isfile(f'{params.outFileRoot}.{1 + job_ind}.{params.jobs}.FastSMC.ibd.gz')\n",
    "\n",
    "frames = [pd.read_csv(f'{params.outFileRoot}.{x}.{params.jobs}.FastSMC.ibd.gz', sep='\\t', header=None)\n",
    "          for x in range(1, params.jobs + 1)]\n",
    "\n",
    "all_data = pd.concat(frames)\n",
    "\n",
    "col_names = ['ind1_famid', 'ind1_id', 'ind1_hap', 'ind2_famid', 'ind2_id', 'ind2_hap',\n",
    "             'chromosome', 'ibd_start', 'ibd_end', 'ibd_score', 'map_est', 'post_est']\n",
    "\n",
    "all_data.columns = col_names\n",
    "\n",
    "# Calculate IBD segment length in number of base pairs\n",
    "all_data.insert(9, 'ibd_length', all_data['ibd_end'] - all_data['ibd_start'])\n",
    "all_data"
   ]
  },
  {
   "cell_type": "markdown",
   "metadata": {
    "pycharm": {
     "name": "#%% md\n"
    }
   },
   "source": [
    "6. Visualise data: here we simply bin the posterior age estimates of the IBD segments"
   ]
  },
  {
   "cell_type": "code",
   "execution_count": null,
   "metadata": {
    "pycharm": {
     "name": "#%%\n"
    },
    "scrolled": false
   },
   "outputs": [],
   "source": [
    "plt.xlabel(\"MAP age estimate (in generations)\")\n",
    "all_data['map_est'].hist()\n"
   ]
  },
  {
   "cell_type": "code",
   "execution_count": null,
   "metadata": {
    "pycharm": {
     "name": "#%%\n"
    }
   },
   "outputs": [],
   "source": [
    "plt.xlabel(\"IBD segments length (in kbp)\")\n",
    "(all_data['ibd_length'] / 1000).hist(range=[1, 200])"
   ]
  }
 ],
 "metadata": {
  "kernelspec": {
   "display_name": "Python 3",
   "language": "python",
   "name": "python3"
  },
  "language_info": {
   "codemirror_mode": {
    "name": "ipython",
    "version": 3
   },
   "file_extension": ".py",
   "mimetype": "text/x-python",
   "name": "python",
   "nbconvert_exporter": "python",
   "pygments_lexer": "ipython3",
   "version": "3.8.2"
  }
 },
 "nbformat": 4,
 "nbformat_minor": 4
}
